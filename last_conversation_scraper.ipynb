{
 "cells": [
  {
   "cell_type": "markdown",
   "id": "282a06fc",
   "metadata": {},
   "source": [
    "# Library"
   ]
  },
  {
   "cell_type": "code",
   "execution_count": 1,
   "id": "ddae0461",
   "metadata": {},
   "outputs": [],
   "source": [
    "# install requirements (uncomment if you need it)\n",
    "#!pip install request\n",
    "#!pip install beautifulsoup4\n",
    "#!pip install pandas"
   ]
  },
  {
   "cell_type": "code",
   "execution_count": 2,
   "id": "0806dd7d",
   "metadata": {},
   "outputs": [],
   "source": [
    "# importing library\n",
    "import requests\n",
    "from bs4 import BeautifulSoup\n",
    "import pandas as pd\n",
    "import numpy as np"
   ]
  },
  {
   "cell_type": "markdown",
   "id": "ccbc11f9",
   "metadata": {},
   "source": [
    "# URL & Base Models"
   ]
  },
  {
   "cell_type": "code",
   "execution_count": 3,
   "id": "6448e108",
   "metadata": {},
   "outputs": [],
   "source": [
    "# base soup models\n",
    "def model(base_url, flex_url):\n",
    "    response = requests.get(base_url+flex_url)\n",
    "    \n",
    "    # table soup model\n",
    "    soup = BeautifulSoup(response.text, 'html')\n",
    "    return soup"
   ]
  },
  {
   "cell_type": "code",
   "execution_count": 4,
   "id": "ef611056",
   "metadata": {},
   "outputs": [],
   "source": [
    "# function to extract the base element\n",
    "def base_elements(element, base_url, flex_url):\n",
    "    soup = model(base_url, flex_url)\n",
    "    base_element = soup.find_all(f'{element}')\n",
    "    return base_element"
   ]
  },
  {
   "cell_type": "code",
   "execution_count": 5,
   "id": "9b634a24",
   "metadata": {},
   "outputs": [],
   "source": [
    "# functon to get the needed sub_elements\n",
    "def sub_elements(base_element, sub_element):\n",
    "    all_data = []\n",
    "    for table in base_element:\n",
    "        data = table.find_all(f'{sub_element}')\n",
    "        all_data.append(data)\n",
    "    return data"
   ]
  },
  {
   "cell_type": "markdown",
   "id": "71cc32b8",
   "metadata": {},
   "source": [
    "# Creating Headers of Dataframe"
   ]
  },
  {
   "cell_type": "code",
   "execution_count": 6,
   "id": "ca4a24c0",
   "metadata": {},
   "outputs": [],
   "source": [
    "# make table as base elements\n",
    "base_url = 'https://www.planecrashinfo.com/'\n",
    "flex_url = 'lastwords.htm'\n",
    "tables = base_elements('table', base_url, flex_url)"
   ]
  },
  {
   "cell_type": "code",
   "execution_count": 7,
   "id": "8c5aca6f",
   "metadata": {},
   "outputs": [],
   "source": [
    "# get the headers\n",
    "tb_headers = sub_elements(tables, 'tr')\n",
    "\n",
    "# get the headers only\n",
    "tb_headers = tb_headers[0]"
   ]
  },
  {
   "cell_type": "code",
   "execution_count": 8,
   "id": "ba4c675f",
   "metadata": {
    "scrolled": true
   },
   "outputs": [
    {
     "data": {
      "text/plain": [
       "['TRANSCRIPT', 'AIRLINE', 'FLIGHT']"
      ]
     },
     "execution_count": 8,
     "metadata": {},
     "output_type": "execute_result"
    }
   ],
   "source": [
    "# get the value from th elements\n",
    "tb_headers_titles = [title.text.strip() for title in tb_headers]\n",
    "tb_headers_titles = [item for item in tb_headers_titles if item]\n",
    "tb_headers_titles"
   ]
  },
  {
   "cell_type": "code",
   "execution_count": 9,
   "id": "57b32a5c",
   "metadata": {},
   "outputs": [
    {
     "data": {
      "text/plain": [
       "['BY', 'TRANSCRIPT', 'AIRLINE', 'FLIGHT', 'CONVERSATION']"
      ]
     },
     "execution_count": 9,
     "metadata": {},
     "output_type": "execute_result"
    }
   ],
   "source": [
    "# append new value into the headers\n",
    "tb_headers_titles.insert(0, 'BY')\n",
    "tb_headers_titles.append('CONVERSATION')\n",
    "tb_headers_titles"
   ]
  },
  {
   "cell_type": "code",
   "execution_count": 10,
   "id": "a2834973",
   "metadata": {
    "scrolled": false
   },
   "outputs": [
    {
     "data": {
      "text/html": [
       "<div>\n",
       "<style scoped>\n",
       "    .dataframe tbody tr th:only-of-type {\n",
       "        vertical-align: middle;\n",
       "    }\n",
       "\n",
       "    .dataframe tbody tr th {\n",
       "        vertical-align: top;\n",
       "    }\n",
       "\n",
       "    .dataframe thead th {\n",
       "        text-align: right;\n",
       "    }\n",
       "</style>\n",
       "<table border=\"1\" class=\"dataframe\">\n",
       "  <thead>\n",
       "    <tr style=\"text-align: right;\">\n",
       "      <th></th>\n",
       "      <th>BY</th>\n",
       "      <th>TRANSCRIPT</th>\n",
       "      <th>AIRLINE</th>\n",
       "      <th>FLIGHT</th>\n",
       "      <th>CONVERSATION</th>\n",
       "    </tr>\n",
       "  </thead>\n",
       "  <tbody>\n",
       "  </tbody>\n",
       "</table>\n",
       "</div>"
      ],
      "text/plain": [
       "Empty DataFrame\n",
       "Columns: [BY, TRANSCRIPT, AIRLINE, FLIGHT, CONVERSATION]\n",
       "Index: []"
      ]
     },
     "execution_count": 10,
     "metadata": {},
     "output_type": "execute_result"
    }
   ],
   "source": [
    "# importing titles into dataframe\n",
    "df = pd.DataFrame(columns = tb_headers_titles)\n",
    "df"
   ]
  },
  {
   "cell_type": "markdown",
   "id": "3b4616b1",
   "metadata": {},
   "source": [
    "# Creating Column Data of Dataframe"
   ]
  },
  {
   "cell_type": "code",
   "execution_count": 11,
   "id": "e2e8d782",
   "metadata": {},
   "outputs": [],
   "source": [
    "# extract the column data\n",
    "column_data = sub_elements(tables, 'tr')"
   ]
  },
  {
   "cell_type": "code",
   "execution_count": 12,
   "id": "fed142cc",
   "metadata": {},
   "outputs": [],
   "source": [
    "for row in column_data[1:]:\n",
    "    row_data = row.find_all('td')\n",
    "    row_data_list = [data.text.strip() for data in row_data]\n",
    "    \n",
    "    # insert into df\n",
    "    length = len(df)\n",
    "    df.loc[length] = row_data_list"
   ]
  },
  {
   "cell_type": "code",
   "execution_count": 13,
   "id": "20ff9010",
   "metadata": {
    "scrolled": false
   },
   "outputs": [
    {
     "data": {
      "text/html": [
       "<div>\n",
       "<style scoped>\n",
       "    .dataframe tbody tr th:only-of-type {\n",
       "        vertical-align: middle;\n",
       "    }\n",
       "\n",
       "    .dataframe tbody tr th {\n",
       "        vertical-align: top;\n",
       "    }\n",
       "\n",
       "    .dataframe thead th {\n",
       "        text-align: right;\n",
       "    }\n",
       "</style>\n",
       "<table border=\"1\" class=\"dataframe\">\n",
       "  <thead>\n",
       "    <tr style=\"text-align: right;\">\n",
       "      <th></th>\n",
       "      <th>BY</th>\n",
       "      <th>TRANSCRIPT</th>\n",
       "      <th>AIRLINE</th>\n",
       "      <th>FLIGHT</th>\n",
       "      <th>CONVERSATION</th>\n",
       "    </tr>\n",
       "  </thead>\n",
       "  <tbody>\n",
       "    <tr>\n",
       "      <th>92</th>\n",
       "      <td>ATC</td>\n",
       "      <td>15 Jan 2009</td>\n",
       "      <td>US Airways</td>\n",
       "      <td>1549</td>\n",
       "      <td>We're gonna be in the Hudson.</td>\n",
       "    </tr>\n",
       "    <tr>\n",
       "      <th>93</th>\n",
       "      <td></td>\n",
       "      <td>12 Feb 2009</td>\n",
       "      <td>Continental Express</td>\n",
       "      <td>3407</td>\n",
       "      <td>We're down.</td>\n",
       "    </tr>\n",
       "    <tr>\n",
       "      <th>94</th>\n",
       "      <td>CVR</td>\n",
       "      <td>10 Apr 2010</td>\n",
       "      <td>Polish Air Force</td>\n",
       "      <td>1549</td>\n",
       "      <td>F**kkkkkk.</td>\n",
       "    </tr>\n",
       "    <tr>\n",
       "      <th>95</th>\n",
       "      <td>CVR</td>\n",
       "      <td>07 Sept 2011</td>\n",
       "      <td>Yak service flight</td>\n",
       "      <td>9633</td>\n",
       "      <td>That's it we are f**ked up.</td>\n",
       "    </tr>\n",
       "    <tr>\n",
       "      <th>96</th>\n",
       "      <td>CVR</td>\n",
       "      <td>12 Dec 2019</td>\n",
       "      <td>Bek Air</td>\n",
       "      <td>2100</td>\n",
       "      <td>F**k your...ah.</td>\n",
       "    </tr>\n",
       "  </tbody>\n",
       "</table>\n",
       "</div>"
      ],
      "text/plain": [
       "     BY    TRANSCRIPT              AIRLINE FLIGHT  \\\n",
       "92  ATC   15 Jan 2009           US Airways   1549   \n",
       "93        12 Feb 2009  Continental Express   3407   \n",
       "94  CVR   10 Apr 2010     Polish Air Force   1549   \n",
       "95  CVR  07 Sept 2011   Yak service flight   9633   \n",
       "96  CVR   12 Dec 2019              Bek Air   2100   \n",
       "\n",
       "                     CONVERSATION  \n",
       "92  We're gonna be in the Hudson.  \n",
       "93                    We're down.  \n",
       "94                     F**kkkkkk.  \n",
       "95    That's it we are f**ked up.  \n",
       "96                F**k your...ah.  "
      ]
     },
     "execution_count": 13,
     "metadata": {},
     "output_type": "execute_result"
    }
   ],
   "source": [
    "df.tail(5)"
   ]
  },
  {
   "cell_type": "code",
   "execution_count": 14,
   "id": "76ce53a7",
   "metadata": {},
   "outputs": [],
   "source": [
    "df.insert(0, 'ID', range(1, len(df) + 1))"
   ]
  },
  {
   "cell_type": "markdown",
   "id": "7447563f",
   "metadata": {},
   "source": [
    "## Get The Link of Second Page"
   ]
  },
  {
   "cell_type": "code",
   "execution_count": 15,
   "id": "1584a3ce",
   "metadata": {},
   "outputs": [],
   "source": [
    "base_url = 'https://www.planecrashinfo.com/'\n",
    "href = []\n",
    "for row in column_data[1:]:\n",
    "    second_column = row.find_all('td')[1]\n",
    "    link = second_column.find_all('a')\n",
    "    link = [link.get('href') for link in link]\n",
    "    href.append(link)"
   ]
  },
  {
   "cell_type": "code",
   "execution_count": 16,
   "id": "45cf15d6",
   "metadata": {},
   "outputs": [],
   "source": [
    "# inserting the list into df\n",
    "df['HREF'] = href"
   ]
  },
  {
   "cell_type": "code",
   "execution_count": 17,
   "id": "c7ed7722",
   "metadata": {},
   "outputs": [],
   "source": [
    "# clean the list before inserting into df\n",
    "def clean_href_column(href):\n",
    "    if isinstance(href, list) and len(href) == 1:\n",
    "        return href[0]  \n",
    "    elif isinstance(href, list) and len(href) == 0:\n",
    "        return np.nan \n",
    "    return href\n",
    "\n",
    "# Apply the function to the 'HREF' column\n",
    "df['HREF'] = df['HREF'].apply(clean_href_column)"
   ]
  },
  {
   "cell_type": "code",
   "execution_count": 18,
   "id": "4046c186",
   "metadata": {},
   "outputs": [
    {
     "data": {
      "text/html": [
       "<div>\n",
       "<style scoped>\n",
       "    .dataframe tbody tr th:only-of-type {\n",
       "        vertical-align: middle;\n",
       "    }\n",
       "\n",
       "    .dataframe tbody tr th {\n",
       "        vertical-align: top;\n",
       "    }\n",
       "\n",
       "    .dataframe thead th {\n",
       "        text-align: right;\n",
       "    }\n",
       "</style>\n",
       "<table border=\"1\" class=\"dataframe\">\n",
       "  <thead>\n",
       "    <tr style=\"text-align: right;\">\n",
       "      <th></th>\n",
       "      <th>ID</th>\n",
       "      <th>BY</th>\n",
       "      <th>TRANSCRIPT</th>\n",
       "      <th>AIRLINE</th>\n",
       "      <th>FLIGHT</th>\n",
       "      <th>CONVERSATION</th>\n",
       "      <th>HREF</th>\n",
       "    </tr>\n",
       "  </thead>\n",
       "  <tbody>\n",
       "    <tr>\n",
       "      <th>92</th>\n",
       "      <td>93</td>\n",
       "      <td>ATC</td>\n",
       "      <td>15 Jan 2009</td>\n",
       "      <td>US Airways</td>\n",
       "      <td>1549</td>\n",
       "      <td>We're gonna be in the Hudson.</td>\n",
       "      <td>cvr090115.htm</td>\n",
       "    </tr>\n",
       "    <tr>\n",
       "      <th>93</th>\n",
       "      <td>94</td>\n",
       "      <td></td>\n",
       "      <td>12 Feb 2009</td>\n",
       "      <td>Continental Express</td>\n",
       "      <td>3407</td>\n",
       "      <td>We're down.</td>\n",
       "      <td>cvr090212.htm</td>\n",
       "    </tr>\n",
       "    <tr>\n",
       "      <th>94</th>\n",
       "      <td>95</td>\n",
       "      <td>CVR</td>\n",
       "      <td>10 Apr 2010</td>\n",
       "      <td>Polish Air Force</td>\n",
       "      <td>1549</td>\n",
       "      <td>F**kkkkkk.</td>\n",
       "      <td>https://www.youtube.com/watch?v=0JNEZlLceVk</td>\n",
       "    </tr>\n",
       "    <tr>\n",
       "      <th>95</th>\n",
       "      <td>96</td>\n",
       "      <td>CVR</td>\n",
       "      <td>07 Sept 2011</td>\n",
       "      <td>Yak service flight</td>\n",
       "      <td>9633</td>\n",
       "      <td>That's it we are f**ked up.</td>\n",
       "      <td>0</td>\n",
       "    </tr>\n",
       "    <tr>\n",
       "      <th>96</th>\n",
       "      <td>97</td>\n",
       "      <td>CVR</td>\n",
       "      <td>12 Dec 2019</td>\n",
       "      <td>Bek Air</td>\n",
       "      <td>2100</td>\n",
       "      <td>F**k your...ah.</td>\n",
       "      <td>0</td>\n",
       "    </tr>\n",
       "  </tbody>\n",
       "</table>\n",
       "</div>"
      ],
      "text/plain": [
       "    ID   BY    TRANSCRIPT              AIRLINE FLIGHT  \\\n",
       "92  93  ATC   15 Jan 2009           US Airways   1549   \n",
       "93  94        12 Feb 2009  Continental Express   3407   \n",
       "94  95  CVR   10 Apr 2010     Polish Air Force   1549   \n",
       "95  96  CVR  07 Sept 2011   Yak service flight   9633   \n",
       "96  97  CVR   12 Dec 2019              Bek Air   2100   \n",
       "\n",
       "                     CONVERSATION                                         HREF  \n",
       "92  We're gonna be in the Hudson.                                cvr090115.htm  \n",
       "93                    We're down.                                cvr090212.htm  \n",
       "94                     F**kkkkkk.  https://www.youtube.com/watch?v=0JNEZlLceVk  \n",
       "95    That's it we are f**ked up.                                            0  \n",
       "96                F**k your...ah.                                            0  "
      ]
     },
     "execution_count": 18,
     "metadata": {},
     "output_type": "execute_result"
    }
   ],
   "source": [
    "df = df.fillna(0)\n",
    "df.tail(5)"
   ]
  },
  {
   "cell_type": "code",
   "execution_count": 19,
   "id": "633ff6f5",
   "metadata": {},
   "outputs": [
    {
     "data": {
      "text/html": [
       "<div>\n",
       "<style scoped>\n",
       "    .dataframe tbody tr th:only-of-type {\n",
       "        vertical-align: middle;\n",
       "    }\n",
       "\n",
       "    .dataframe tbody tr th {\n",
       "        vertical-align: top;\n",
       "    }\n",
       "\n",
       "    .dataframe thead th {\n",
       "        text-align: right;\n",
       "    }\n",
       "</style>\n",
       "<table border=\"1\" class=\"dataframe\">\n",
       "  <thead>\n",
       "    <tr style=\"text-align: right;\">\n",
       "      <th></th>\n",
       "      <th>ID</th>\n",
       "      <th>BY</th>\n",
       "      <th>TRANSCRIPT</th>\n",
       "      <th>AIRLINE</th>\n",
       "      <th>FLIGHT</th>\n",
       "      <th>CONVERSATION</th>\n",
       "      <th>HREF</th>\n",
       "    </tr>\n",
       "  </thead>\n",
       "  <tbody>\n",
       "    <tr>\n",
       "      <th>92</th>\n",
       "      <td>93</td>\n",
       "      <td>ATC</td>\n",
       "      <td>15 Jan 2009</td>\n",
       "      <td>US Airways</td>\n",
       "      <td>1549</td>\n",
       "      <td>We're gonna be in the Hudson.</td>\n",
       "      <td>cvr090115.htm</td>\n",
       "    </tr>\n",
       "    <tr>\n",
       "      <th>93</th>\n",
       "      <td>94</td>\n",
       "      <td></td>\n",
       "      <td>12 Feb 2009</td>\n",
       "      <td>Continental Express</td>\n",
       "      <td>3407</td>\n",
       "      <td>We're down.</td>\n",
       "      <td>cvr090212.htm</td>\n",
       "    </tr>\n",
       "    <tr>\n",
       "      <th>94</th>\n",
       "      <td>95</td>\n",
       "      <td>CVR</td>\n",
       "      <td>10 Apr 2010</td>\n",
       "      <td>Polish Air Force</td>\n",
       "      <td>1549</td>\n",
       "      <td>F**kkkkkk.</td>\n",
       "      <td>0</td>\n",
       "    </tr>\n",
       "    <tr>\n",
       "      <th>95</th>\n",
       "      <td>96</td>\n",
       "      <td>CVR</td>\n",
       "      <td>07 Sept 2011</td>\n",
       "      <td>Yak service flight</td>\n",
       "      <td>9633</td>\n",
       "      <td>That's it we are f**ked up.</td>\n",
       "      <td>0</td>\n",
       "    </tr>\n",
       "    <tr>\n",
       "      <th>96</th>\n",
       "      <td>97</td>\n",
       "      <td>CVR</td>\n",
       "      <td>12 Dec 2019</td>\n",
       "      <td>Bek Air</td>\n",
       "      <td>2100</td>\n",
       "      <td>F**k your...ah.</td>\n",
       "      <td>0</td>\n",
       "    </tr>\n",
       "  </tbody>\n",
       "</table>\n",
       "</div>"
      ],
      "text/plain": [
       "    ID   BY    TRANSCRIPT              AIRLINE FLIGHT  \\\n",
       "92  93  ATC   15 Jan 2009           US Airways   1549   \n",
       "93  94        12 Feb 2009  Continental Express   3407   \n",
       "94  95  CVR   10 Apr 2010     Polish Air Force   1549   \n",
       "95  96  CVR  07 Sept 2011   Yak service flight   9633   \n",
       "96  97  CVR   12 Dec 2019              Bek Air   2100   \n",
       "\n",
       "                     CONVERSATION           HREF  \n",
       "92  We're gonna be in the Hudson.  cvr090115.htm  \n",
       "93                    We're down.  cvr090212.htm  \n",
       "94                     F**kkkkkk.              0  \n",
       "95    That's it we are f**ked up.              0  \n",
       "96                F**k your...ah.              0  "
      ]
     },
     "execution_count": 19,
     "metadata": {},
     "output_type": "execute_result"
    }
   ],
   "source": [
    "mask = df['HREF'].str.contains('https://').fillna(False)\n",
    "df.loc[mask, 'HREF'] = 0\n",
    "df.tail(5)"
   ]
  },
  {
   "cell_type": "code",
   "execution_count": 20,
   "id": "28114ff7",
   "metadata": {
    "scrolled": false
   },
   "outputs": [],
   "source": [
    "link_list = []\n",
    "for index, row in df.iterrows():\n",
    "    if row['HREF'] != 0:\n",
    "        link_list.append(row['HREF'])\n",
    "    else:\n",
    "        link_list.append('')"
   ]
  },
  {
   "cell_type": "code",
   "execution_count": 21,
   "id": "19364008",
   "metadata": {},
   "outputs": [],
   "source": [
    "# func to extract data from second page\n",
    "def extracting_data(flex_url):\n",
    "    # make table as base elements\n",
    "    base_url = 'https://www.planecrashinfo.com/'\n",
    "    html = base_elements('html', base_url, flex_url)\n",
    "    \n",
    "    # extract the column data\n",
    "    for element in html:\n",
    "        if element.find_all('tr'):\n",
    "            column_data = sub_elements(html, 'tr')\n",
    "        elif element.find_all('ol'):\n",
    "            column_data = sub_elements(html, 'ol')\n",
    "        elif element.find_all('font'):\n",
    "            column_data = sub_elements(html, 'font')\n",
    "        else:\n",
    "            column_data = sub_elements(html, 'body')\n",
    "            \n",
    "    # extract conversation\n",
    "    conversation = []\n",
    "    for row in column_data:\n",
    "        if row.find_all('td'):\n",
    "            row_data = row.find_all('td')\n",
    "            row_data_list = [data.text.strip() for data in row_data]\n",
    "        elif row.find_all('p'):\n",
    "            row_data = row.find_all('p')\n",
    "            row_data_list = [data.text.strip() for data in row_data]\n",
    "        else:\n",
    "            row_data_list = [data.text.strip() for data in row]\n",
    "            \n",
    "        conversation.append(row_data_list)\n",
    "    return conversation"
   ]
  },
  {
   "cell_type": "code",
   "execution_count": 22,
   "id": "8cbc85d5",
   "metadata": {
    "scrolled": true
   },
   "outputs": [
    {
     "name": "stderr",
     "output_type": "stream",
     "text": [
      "C:\\Users\\koman\\AppData\\Local\\Temp\\ipykernel_26488\\3554560146.py:11: SettingWithCopyWarning: \n",
      "A value is trying to be set on a copy of a slice from a DataFrame\n",
      "\n",
      "See the caveats in the documentation: https://pandas.pydata.org/pandas-docs/stable/user_guide/indexing.html#returning-a-view-versus-a-copy\n",
      "  df['CONVERSATION'][i] = data\n",
      "C:\\Users\\koman\\AppData\\Local\\Temp\\ipykernel_26488\\3554560146.py:7: SettingWithCopyWarning: \n",
      "A value is trying to be set on a copy of a slice from a DataFrame\n",
      "\n",
      "See the caveats in the documentation: https://pandas.pydata.org/pandas-docs/stable/user_guide/indexing.html#returning-a-view-versus-a-copy\n",
      "  df['CONVERSATION'][i] = text.to_string(index=False)\n"
     ]
    }
   ],
   "source": [
    "conversation = []\n",
    "for i in range(len(link_list)):\n",
    "    if link_list[i] == '':\n",
    "        conv = df[df['ID'] == i+1]\n",
    "        text = conv['CONVERSATION']\n",
    "        df['CONVERSATION'][i] = text.to_string(index=False)\n",
    "    else:\n",
    "        data = extracting_data(link_list[i])\n",
    "        df['CONVERSATION'][i] = data"
   ]
  },
  {
   "cell_type": "code",
   "execution_count": 24,
   "id": "f5bf050c",
   "metadata": {},
   "outputs": [
    {
     "data": {
      "text/html": [
       "<div>\n",
       "<style scoped>\n",
       "    .dataframe tbody tr th:only-of-type {\n",
       "        vertical-align: middle;\n",
       "    }\n",
       "\n",
       "    .dataframe tbody tr th {\n",
       "        vertical-align: top;\n",
       "    }\n",
       "\n",
       "    .dataframe thead th {\n",
       "        text-align: right;\n",
       "    }\n",
       "</style>\n",
       "<table border=\"1\" class=\"dataframe\">\n",
       "  <thead>\n",
       "    <tr style=\"text-align: right;\">\n",
       "      <th></th>\n",
       "      <th>ID</th>\n",
       "      <th>BY</th>\n",
       "      <th>TRANSCRIPT</th>\n",
       "      <th>AIRLINE</th>\n",
       "      <th>FLIGHT</th>\n",
       "      <th>CONVERSATION</th>\n",
       "      <th>HREF</th>\n",
       "    </tr>\n",
       "  </thead>\n",
       "  <tbody>\n",
       "    <tr>\n",
       "      <th>92</th>\n",
       "      <td>93</td>\n",
       "      <td>ATC</td>\n",
       "      <td>15 Jan 2009</td>\n",
       "      <td>US Airways</td>\n",
       "      <td>1549</td>\n",
       "      <td>[[January 15, 2009\\n  New York, New York\\n  US...</td>\n",
       "      <td>cvr090115.htm</td>\n",
       "    </tr>\n",
       "    <tr>\n",
       "      <th>93</th>\n",
       "      <td>94</td>\n",
       "      <td></td>\n",
       "      <td>12 Feb 2009</td>\n",
       "      <td>Continental Express</td>\n",
       "      <td>3407</td>\n",
       "      <td>[[21:18:22, , ], [START OF TRANSCRIPT, , ], [1...</td>\n",
       "      <td>cvr090212.htm</td>\n",
       "    </tr>\n",
       "    <tr>\n",
       "      <th>94</th>\n",
       "      <td>95</td>\n",
       "      <td>CVR</td>\n",
       "      <td>10 Apr 2010</td>\n",
       "      <td>Polish Air Force</td>\n",
       "      <td>1549</td>\n",
       "      <td>F**kkkkkk.</td>\n",
       "      <td>0</td>\n",
       "    </tr>\n",
       "    <tr>\n",
       "      <th>95</th>\n",
       "      <td>96</td>\n",
       "      <td>CVR</td>\n",
       "      <td>07 Sept 2011</td>\n",
       "      <td>Yak service flight</td>\n",
       "      <td>9633</td>\n",
       "      <td>That's it we are f**ked up.</td>\n",
       "      <td>0</td>\n",
       "    </tr>\n",
       "    <tr>\n",
       "      <th>96</th>\n",
       "      <td>97</td>\n",
       "      <td>CVR</td>\n",
       "      <td>12 Dec 2019</td>\n",
       "      <td>Bek Air</td>\n",
       "      <td>2100</td>\n",
       "      <td>F**k your...ah.</td>\n",
       "      <td>0</td>\n",
       "    </tr>\n",
       "  </tbody>\n",
       "</table>\n",
       "</div>"
      ],
      "text/plain": [
       "    ID   BY    TRANSCRIPT              AIRLINE FLIGHT  \\\n",
       "92  93  ATC   15 Jan 2009           US Airways   1549   \n",
       "93  94        12 Feb 2009  Continental Express   3407   \n",
       "94  95  CVR   10 Apr 2010     Polish Air Force   1549   \n",
       "95  96  CVR  07 Sept 2011   Yak service flight   9633   \n",
       "96  97  CVR   12 Dec 2019              Bek Air   2100   \n",
       "\n",
       "                                         CONVERSATION           HREF  \n",
       "92  [[January 15, 2009\\n  New York, New York\\n  US...  cvr090115.htm  \n",
       "93  [[21:18:22, , ], [START OF TRANSCRIPT, , ], [1...  cvr090212.htm  \n",
       "94                                         F**kkkkkk.              0  \n",
       "95                        That's it we are f**ked up.              0  \n",
       "96                                    F**k your...ah.              0  "
      ]
     },
     "execution_count": 24,
     "metadata": {},
     "output_type": "execute_result"
    }
   ],
   "source": [
    "df.tail(5)"
   ]
  },
  {
   "cell_type": "code",
   "execution_count": 23,
   "id": "6d37acce",
   "metadata": {},
   "outputs": [],
   "source": [
    "# uncoment if you want to get the csv\n",
    "# df.to_csv(\"last_conversation.csv\", index=False)"
   ]
  }
 ],
 "metadata": {
  "kernelspec": {
   "display_name": "Python 3 (ipykernel)",
   "language": "python",
   "name": "python3"
  },
  "language_info": {
   "codemirror_mode": {
    "name": "ipython",
    "version": 3
   },
   "file_extension": ".py",
   "mimetype": "text/x-python",
   "name": "python",
   "nbconvert_exporter": "python",
   "pygments_lexer": "ipython3",
   "version": "3.11.6"
  }
 },
 "nbformat": 4,
 "nbformat_minor": 5
}
